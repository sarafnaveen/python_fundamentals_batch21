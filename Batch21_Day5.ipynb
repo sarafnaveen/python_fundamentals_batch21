{
 "cells": [
  {
   "cell_type": "code",
   "execution_count": 1,
   "metadata": {},
   "outputs": [
    {
     "name": "stdout",
     "output_type": "stream",
     "text": [
      "keep up the good work, Kiran\n"
     ]
    }
   ],
   "source": [
    "my_students = ['kiran', 'ezaz', 'senthil', 'yasmeen', 'chandra', 'bushra', 'sushmita']\n",
    "print(f\"keep up the good work, {my_students[0].title()}\")"
   ]
  },
  {
   "cell_type": "code",
   "execution_count": 3,
   "metadata": {},
   "outputs": [
    {
     "name": "stdout",
     "output_type": "stream",
     "text": [
      "keep up the good work, Kiran\n",
      "keep up the good work, Ezaz\n",
      "keep up the good work, Senthil\n",
      "keep up the good work, Yasmeen\n",
      "keep up the good work, Chandra\n",
      "keep up the good work, Bushra\n",
      "keep up the good work, Sushmita\n"
     ]
    }
   ],
   "source": [
    "for student in my_students:\n",
    "    print(f\"keep up the good work, {student.title()}\")"
   ]
  },
  {
   "cell_type": "code",
   "execution_count": 4,
   "metadata": {},
   "outputs": [
    {
     "name": "stdout",
     "output_type": "stream",
     "text": [
      "keep up the good work, Kiran\n",
      "keep up the good work, Ezaz\n",
      "keep up the good work, Senthil\n",
      "keep up the good work, Yasmeen\n",
      "keep up the good work, Chandra\n",
      "keep up the good work, Bushra\n",
      "keep up the good work, Sushmita\n"
     ]
    }
   ],
   "source": [
    "for random in my_students:\n",
    "    print(f\"keep up the good work, {random.title()}\")"
   ]
  },
  {
   "cell_type": "code",
   "execution_count": 5,
   "metadata": {},
   "outputs": [
    {
     "name": "stdout",
     "output_type": "stream",
     "text": [
      "keep up the good work, Kiran\n",
      "I am looking forward to receive your files today, Kiran\n",
      "keep up the good work, Ezaz\n",
      "I am looking forward to receive your files today, Ezaz\n",
      "keep up the good work, Senthil\n",
      "I am looking forward to receive your files today, Senthil\n",
      "keep up the good work, Yasmeen\n",
      "I am looking forward to receive your files today, Yasmeen\n",
      "keep up the good work, Chandra\n",
      "I am looking forward to receive your files today, Chandra\n",
      "keep up the good work, Bushra\n",
      "I am looking forward to receive your files today, Bushra\n",
      "keep up the good work, Sushmita\n",
      "I am looking forward to receive your files today, Sushmita\n"
     ]
    }
   ],
   "source": [
    "for random in my_students:\n",
    "    print(f\"keep up the good work, {random.title()}\")\n",
    "    print(f\"I am looking forward to receive your files today, {random.title()}\")"
   ]
  },
  {
   "cell_type": "code",
   "execution_count": 6,
   "metadata": {},
   "outputs": [
    {
     "name": "stdout",
     "output_type": "stream",
     "text": [
      "keep up the good work, Kiran\n",
      "I am looking forward to receive your files today, Kiran\n",
      "\n",
      "keep up the good work, Ezaz\n",
      "I am looking forward to receive your files today, Ezaz\n",
      "\n",
      "keep up the good work, Senthil\n",
      "I am looking forward to receive your files today, Senthil\n",
      "\n",
      "keep up the good work, Yasmeen\n",
      "I am looking forward to receive your files today, Yasmeen\n",
      "\n",
      "keep up the good work, Chandra\n",
      "I am looking forward to receive your files today, Chandra\n",
      "\n",
      "keep up the good work, Bushra\n",
      "I am looking forward to receive your files today, Bushra\n",
      "\n",
      "keep up the good work, Sushmita\n",
      "I am looking forward to receive your files today, Sushmita\n",
      "\n"
     ]
    }
   ],
   "source": [
    "for random in my_students:\n",
    "    print(f\"keep up the good work, {random.title()}\")\n",
    "    print(f\"I am looking forward to receive your files today, {random.title()}\\n\")"
   ]
  },
  {
   "cell_type": "code",
   "execution_count": 7,
   "metadata": {},
   "outputs": [
    {
     "name": "stdout",
     "output_type": "stream",
     "text": [
      "keep up the good work, Kiran\n",
      "I am looking forward to receive your files today, Kiran\n",
      "\n",
      "keep up the good work, Ezaz\n",
      "I am looking forward to receive your files today, Ezaz\n",
      "\n",
      "keep up the good work, Senthil\n",
      "I am looking forward to receive your files today, Senthil\n",
      "\n",
      "keep up the good work, Yasmeen\n",
      "I am looking forward to receive your files today, Yasmeen\n",
      "\n",
      "keep up the good work, Chandra\n",
      "I am looking forward to receive your files today, Chandra\n",
      "\n",
      "keep up the good work, Bushra\n",
      "I am looking forward to receive your files today, Bushra\n",
      "\n",
      "keep up the good work, Sushmita\n",
      "I am looking forward to receive your files today, Sushmita\n",
      "\n",
      "Thank you all for joining the python session today\n"
     ]
    }
   ],
   "source": [
    "for random in my_students:\n",
    "    print(f\"keep up the good work, {random.title()}\")\n",
    "    print(f\"I am looking forward to receive your files today, {random.title()}\\n\")\n",
    "print(f\"Thank you all for joining the python session today\")"
   ]
  },
  {
   "cell_type": "code",
   "execution_count": null,
   "metadata": {},
   "outputs": [],
   "source": []
  }
 ],
 "metadata": {
  "kernelspec": {
   "display_name": "Python 3",
   "language": "python",
   "name": "python3"
  },
  "language_info": {
   "codemirror_mode": {
    "name": "ipython",
    "version": 3
   },
   "file_extension": ".py",
   "mimetype": "text/x-python",
   "name": "python",
   "nbconvert_exporter": "python",
   "pygments_lexer": "ipython3",
   "version": "3.7.6"
  }
 },
 "nbformat": 4,
 "nbformat_minor": 4
}
