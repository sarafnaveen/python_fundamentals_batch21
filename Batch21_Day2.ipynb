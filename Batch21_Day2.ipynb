{
 "cells": [
  {
   "cell_type": "code",
   "execution_count": 1,
   "metadata": {},
   "outputs": [
    {
     "name": "stdout",
     "output_type": "stream",
     "text": [
      "['kiran', 'ezaz', 'senthil', 'yasmeen', 'chandra', 'bushra', 'sushmita']\n"
     ]
    }
   ],
   "source": [
    "students = ['kiran', 'ezaz', 'senthil', 'yasmeen', 'chandra', 'bushra', 'sushmita']\n",
    "print(students)"
   ]
  },
  {
   "cell_type": "code",
   "execution_count": 2,
   "metadata": {},
   "outputs": [
    {
     "data": {
      "text/plain": [
       "'ezaz'"
      ]
     },
     "execution_count": 2,
     "metadata": {},
     "output_type": "execute_result"
    }
   ],
   "source": [
    "students[1] # Displays the element at index number '1'"
   ]
  },
  {
   "cell_type": "code",
   "execution_count": 3,
   "metadata": {},
   "outputs": [
    {
     "name": "stdout",
     "output_type": "stream",
     "text": [
      "['kiran', 'ezaz', 'senthil', 'yasmeen', 'chandra', 'bushra', 'sushmita', 'vasundhara']\n"
     ]
    }
   ],
   "source": [
    "students.append('vasundhara') #Add element at the end of the list\n",
    "print(students)"
   ]
  },
  {
   "cell_type": "code",
   "execution_count": 4,
   "metadata": {},
   "outputs": [
    {
     "name": "stdout",
     "output_type": "stream",
     "text": [
      "['kiran', 'ezaz', 'senthil', 'rohit', 'yasmeen', 'chandra', 'bushra', 'sushmita', 'vasundhara']\n"
     ]
    }
   ],
   "source": [
    "students.insert(3, 'rohit') #Inserts elements at index number '3'\n",
    "print(students)"
   ]
  },
  {
   "cell_type": "code",
   "execution_count": 5,
   "metadata": {},
   "outputs": [
    {
     "name": "stdout",
     "output_type": "stream",
     "text": [
      "['ezaz', 'senthil', 'rohit', 'yasmeen', 'chandra', 'bushra', 'sushmita', 'vasundhara']\n"
     ]
    }
   ],
   "source": [
    "del students[0] # Deletes the element at index number '0'\n",
    "print(students)"
   ]
  },
  {
   "cell_type": "code",
   "execution_count": 7,
   "metadata": {},
   "outputs": [
    {
     "name": "stdout",
     "output_type": "stream",
     "text": [
      "['ezaz', 'senthil', 'rohit', 'yasmeen', 'chandra', 'bushra', 'sushmita']\n"
     ]
    }
   ],
   "source": [
    "students.pop() #POP method deletes the last element from the list. Delete temporarily and stores info of element internally\n",
    "print(students)"
   ]
  },
  {
   "cell_type": "code",
   "execution_count": 8,
   "metadata": {},
   "outputs": [
    {
     "name": "stdout",
     "output_type": "stream",
     "text": [
      "['ezaz', 'senthil', 'yasmeen', 'chandra', 'bushra', 'sushmita']\n"
     ]
    }
   ],
   "source": [
    "students.pop(2) # deletes the element at index number '2'\n",
    "print(students)"
   ]
  },
  {
   "cell_type": "code",
   "execution_count": 9,
   "metadata": {},
   "outputs": [
    {
     "name": "stdout",
     "output_type": "stream",
     "text": [
      "Chandra\n"
     ]
    }
   ],
   "source": [
    "print(students[3].title())"
   ]
  },
  {
   "cell_type": "code",
   "execution_count": 10,
   "metadata": {},
   "outputs": [
    {
     "name": "stdout",
     "output_type": "stream",
     "text": [
      "Keep up the good work, Chandra\n"
     ]
    }
   ],
   "source": [
    "print(f\"Keep up the good work, {students[3].title()}\")"
   ]
  },
  {
   "cell_type": "code",
   "execution_count": null,
   "metadata": {},
   "outputs": [],
   "source": []
  }
 ],
 "metadata": {
  "kernelspec": {
   "display_name": "Python 3",
   "language": "python",
   "name": "python3"
  },
  "language_info": {
   "codemirror_mode": {
    "name": "ipython",
    "version": 3
   },
   "file_extension": ".py",
   "mimetype": "text/x-python",
   "name": "python",
   "nbconvert_exporter": "python",
   "pygments_lexer": "ipython3",
   "version": "3.7.6"
  }
 },
 "nbformat": 4,
 "nbformat_minor": 4
}
